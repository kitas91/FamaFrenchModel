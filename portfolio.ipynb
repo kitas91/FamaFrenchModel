{
 "cells": [
  {
   "cell_type": "markdown",
   "metadata": {},
   "source": [
    "# Importing Libraries\n",
    "---"
   ]
  },
  {
   "cell_type": "code",
   "execution_count": 224,
   "metadata": {},
   "outputs": [],
   "source": [
    "import numpy as np\n",
    "import pandas as pd\n",
    "from pandas_datareader.famafrench import get_available_datasets\n",
    "from pandas_datareader import data as wb\n",
    "import matplotlib.pyplot as plt\n",
    "from sklearn import linear_model\n",
    "import statsmodels.api as sm\n",
    "from statsmodels.regression import linear_model as lm\n",
    "from ipywidgets import interact\n",
    "import plotly.express as px\n",
    "import hvplot.pandas\n"
   ]
  },
  {
   "cell_type": "markdown",
   "metadata": {},
   "source": [
    "# Importing + Cleaning FFM & ETF Data\n",
    "-----"
   ]
  },
  {
   "cell_type": "code",
   "execution_count": 117,
   "metadata": {},
   "outputs": [],
   "source": [
    "ds = web.DataReader('F-F_Research_Data_Factors_daily', 'famafrench')"
   ]
  },
  {
   "cell_type": "code",
   "execution_count": 118,
   "metadata": {},
   "outputs": [],
   "source": [
    "ffm_df = ds[0]/100"
   ]
  },
  {
   "cell_type": "code",
   "execution_count": 119,
   "metadata": {},
   "outputs": [],
   "source": [
    "ffm_df.index = pd.DatetimeIndex(df.index)"
   ]
  },
  {
   "cell_type": "code",
   "execution_count": 135,
   "metadata": {},
   "outputs": [],
   "source": [
    "etf_tickers = ['IYK','IYC','XLP', 'IYF', 'IYH', 'IYJ', 'IYM', 'IYR', 'IYW', 'IYZ', 'IDU']"
   ]
  },
  {
   "cell_type": "code",
   "execution_count": 136,
   "metadata": {},
   "outputs": [],
   "source": [
    "start = '2015-02-27'\n",
    "end = '2020-01-31'\n",
    "etf_df = pd.DataFrame()"
   ]
  },
  {
   "cell_type": "code",
   "execution_count": 137,
   "metadata": {},
   "outputs": [],
   "source": [
    "for e in etf_tickers:\n",
    "    etf_df[e]=wb.DataReader(e, data_source = 'yahoo',start = start, end = end) ['Adj Close']"
   ]
  },
  {
   "cell_type": "code",
   "execution_count": 138,
   "metadata": {},
   "outputs": [],
   "source": [
    "etf_df.index = pd.DatetimeIndex(etf_df.index)"
   ]
  },
  {
   "cell_type": "code",
   "execution_count": 139,
   "metadata": {},
   "outputs": [],
   "source": [
    "etf_daily_returns = etf_df.pct_change().dropna()"
   ]
  },
  {
   "cell_type": "markdown",
   "metadata": {},
   "source": [
    "# Running FFM Regression\n",
    "------"
   ]
  },
  {
   "cell_type": "code",
   "execution_count": 140,
   "metadata": {},
   "outputs": [],
   "source": [
    "results_dict = {}\n",
    "params = {}\n",
    "\n",
    "for ticker in etf_daily_returns.columns:\n",
    "    results_dict[ticker] = lm.OLS(endog=etf_daily_returns.loc[:,ticker],\n",
    "                  exog=sm.add_constant(ffm_df[['Mkt-RF','SMB','HML']])).fit() \n",
    "    params[ticker] = results_dict[ticker].params"
   ]
  },
  {
   "cell_type": "code",
   "execution_count": 141,
   "metadata": {},
   "outputs": [],
   "source": [
    "ffm_constants = pd.DataFrame.from_dict(params, orient='index',\n",
    "                       columns=['Mkt-RF','const', 'SMB', 'HML'])"
   ]
  },
  {
   "cell_type": "code",
   "execution_count": 170,
   "metadata": {},
   "outputs": [],
   "source": [
    "mkt_rf_mean = ffm_df['Mkt-RF'].mean()\n",
    "smb_mean = ffm_df['SMB'].mean()\n",
    "hml_mean = ffm_df['HML'].mean()\n",
    "rf_mean = ffm_df['RF'].mean()"
   ]
  },
  {
   "cell_type": "code",
   "execution_count": 171,
   "metadata": {},
   "outputs": [],
   "source": [
    "ffm_returns = ffm_constants['const'] + ffm_constants['Mkt-RF'] * mkt_rf_mean + ffm_constants['SMB'] * smb_mean + ffm_constants['HML'] * hml_mean + rf_mean"
   ]
  },
  {
   "cell_type": "markdown",
   "metadata": {},
   "source": [
    "# Working with data\n",
    "    Annualizing FFM returns\n",
    "    Calculating Volatility\n",
    "    Calculating Sharpe Ratio\n",
    "    Cumulative Daily Returns\n",
    "-----"
   ]
  },
  {
   "cell_type": "code",
   "execution_count": 144,
   "metadata": {},
   "outputs": [],
   "source": [
    "ffm_returns_annual = ((ffm_returns+1)**252 -1)"
   ]
  },
  {
   "cell_type": "code",
   "execution_count": 146,
   "metadata": {},
   "outputs": [],
   "source": [
    "volatility = etf_daily_returns.std()* np.sqrt(252)"
   ]
  },
  {
   "cell_type": "code",
   "execution_count": 166,
   "metadata": {},
   "outputs": [],
   "source": [
    "sharpe_ratio = (ffm_returns_annual) / (volatility)"
   ]
  },
  {
   "cell_type": "code",
   "execution_count": 209,
   "metadata": {},
   "outputs": [],
   "source": [
    "cumulative_daily_returns = (1 + etf_daily_returns).cumprod() - 1"
   ]
  },
  {
   "cell_type": "code",
   "execution_count": 167,
   "metadata": {},
   "outputs": [],
   "source": [
    "data_df = pd.concat([ffm_returns_annual, volatility, sharpe_ratio], axis = 'columns', join = 'inner')"
   ]
  },
  {
   "cell_type": "code",
   "execution_count": 206,
   "metadata": {},
   "outputs": [],
   "source": [
    "data_df.columns=([['E_Return', 'Volatility', 'Sharpe_Ratio']])"
   ]
  },
  {
   "cell_type": "code",
   "execution_count": 207,
   "metadata": {},
   "outputs": [
    {
     "data": {
      "text/html": [
       "<div>\n",
       "<style scoped>\n",
       "    .dataframe tbody tr th:only-of-type {\n",
       "        vertical-align: middle;\n",
       "    }\n",
       "\n",
       "    .dataframe tbody tr th {\n",
       "        vertical-align: top;\n",
       "    }\n",
       "\n",
       "    .dataframe thead tr th {\n",
       "        text-align: left;\n",
       "    }\n",
       "</style>\n",
       "<table border=\"1\" class=\"dataframe\">\n",
       "  <thead>\n",
       "    <tr>\n",
       "      <th></th>\n",
       "      <th>E_Return</th>\n",
       "      <th>Volatility</th>\n",
       "      <th>Sharpe_Ratio</th>\n",
       "    </tr>\n",
       "  </thead>\n",
       "  <tbody>\n",
       "    <tr>\n",
       "      <th>IYK</th>\n",
       "      <td>0.089343</td>\n",
       "      <td>0.119931</td>\n",
       "      <td>0.744958</td>\n",
       "    </tr>\n",
       "    <tr>\n",
       "      <th>IYC</th>\n",
       "      <td>0.129410</td>\n",
       "      <td>0.142046</td>\n",
       "      <td>0.911046</td>\n",
       "    </tr>\n",
       "    <tr>\n",
       "      <th>XLP</th>\n",
       "      <td>0.096454</td>\n",
       "      <td>0.118846</td>\n",
       "      <td>0.811588</td>\n",
       "    </tr>\n",
       "    <tr>\n",
       "      <th>IYF</th>\n",
       "      <td>0.132747</td>\n",
       "      <td>0.147985</td>\n",
       "      <td>0.897031</td>\n",
       "    </tr>\n",
       "    <tr>\n",
       "      <th>IYH</th>\n",
       "      <td>0.107067</td>\n",
       "      <td>0.152347</td>\n",
       "      <td>0.702785</td>\n",
       "    </tr>\n",
       "    <tr>\n",
       "      <th>IYJ</th>\n",
       "      <td>0.127766</td>\n",
       "      <td>0.149335</td>\n",
       "      <td>0.855566</td>\n",
       "    </tr>\n",
       "    <tr>\n",
       "      <th>IYM</th>\n",
       "      <td>0.055138</td>\n",
       "      <td>0.175118</td>\n",
       "      <td>0.314862</td>\n",
       "    </tr>\n",
       "    <tr>\n",
       "      <th>IYR</th>\n",
       "      <td>0.098452</td>\n",
       "      <td>0.139370</td>\n",
       "      <td>0.706410</td>\n",
       "    </tr>\n",
       "    <tr>\n",
       "      <th>IYW</th>\n",
       "      <td>0.221118</td>\n",
       "      <td>0.183399</td>\n",
       "      <td>1.205669</td>\n",
       "    </tr>\n",
       "    <tr>\n",
       "      <th>IYZ</th>\n",
       "      <td>0.040918</td>\n",
       "      <td>0.171886</td>\n",
       "      <td>0.238052</td>\n",
       "    </tr>\n",
       "    <tr>\n",
       "      <th>IDU</th>\n",
       "      <td>0.145495</td>\n",
       "      <td>0.136450</td>\n",
       "      <td>1.066289</td>\n",
       "    </tr>\n",
       "  </tbody>\n",
       "</table>\n",
       "</div>"
      ],
      "text/plain": [
       "     E_Return Volatility Sharpe_Ratio\n",
       "IYK  0.089343   0.119931     0.744958\n",
       "IYC  0.129410   0.142046     0.911046\n",
       "XLP  0.096454   0.118846     0.811588\n",
       "IYF  0.132747   0.147985     0.897031\n",
       "IYH  0.107067   0.152347     0.702785\n",
       "IYJ  0.127766   0.149335     0.855566\n",
       "IYM  0.055138   0.175118     0.314862\n",
       "IYR  0.098452   0.139370     0.706410\n",
       "IYW  0.221118   0.183399     1.205669\n",
       "IYZ  0.040918   0.171886     0.238052\n",
       "IDU  0.145495   0.136450     1.066289"
      ]
     },
     "execution_count": 207,
     "metadata": {},
     "output_type": "execute_result"
    }
   ],
   "source": [
    "data_df"
   ]
  },
  {
   "cell_type": "markdown",
   "metadata": {},
   "source": [
    "# Ticker Analysis\n",
    "------"
   ]
  },
  {
   "cell_type": "code",
   "execution_count": 212,
   "metadata": {},
   "outputs": [],
   "source": [
    "def daily_returns_line_plot():\n",
    "    \"\"\"ETFs: Line Plot\"\"\"\n",
    "    daily_returns_line_plot = etf_daily_returns.hvplot.line(\n",
    "                        xlabel = 'ETF',\n",
    "                        ylabel = 'Volatility',\n",
    "                        width = 500,\n",
    "                        rot = 60,\n",
    "                        ylim = (-.07, .07))\n",
    "    return daily_returns_line_plot\n",
    "\n",
    "def daily_returns_box_plot():\n",
    "    \"\"\"ETFs: Volatility - Box Plot\"\"\"\n",
    "    daily_returns_box_plot = etf_daily_returns.hvplot.box(\n",
    "                        xlabel = 'ETF',\n",
    "                        ylabel = 'Volatility',\n",
    "                        width = 500,\n",
    "                        #text = (.02,-.02,'Volatility Band'),\n",
    "                        rot = 60,\n",
    "                        ylim = (-.07, .07))\n",
    "    return daily_returns_box_plot\n",
    "\n",
    "def cumulative_daily_returns_line_plot():\n",
    "    \"\"\"ETFs: Cumulative Returns\"\"\"\n",
    "    cumulative_daily_returns_line_plot = cumulative_daily_returns.hvplot.line(\n",
    "                        xlabel = 'Date',\n",
    "                        width = 1000,\n",
    "                        ylabel = 'Returns')\n",
    "    return cumulative_daily_returns_line_plot\n",
    "\n",
    "def sharpe_ratio_plot():\n",
    "    \"\"\"ETFs: Sharpe Ratio\"\"\"\n",
    "    sharpe_ratio_plot = sharpe_ratio.hvplot.bar(title=\"Sharpe Ratios\", \n",
    "                        hover_fill_color = 'Yellow',\n",
    "                        xlabel = 'ETF',\n",
    "                        ylabel = 'Sharpe')\n",
    "    return sharpe_ratio_plot\n",
    "\n",
    "def rolling_std_dev():\n",
    "    \"\"\"ETFRolling 21-Day Std. Dev.\"\"\"\n",
    "    rolling_std_dev = daily_returns.iloc[:,list(range(1)) + [-1]].rolling(window=21).std().hvplot.line(\n",
    "                        title=\"Rolling 21-Day Std. Dev. of ETF\")\n",
    "    return rolling_std_dev"
   ]
  },
  {
   "cell_type": "markdown",
   "metadata": {},
   "source": [
    "# Building Efficiency Frontier Simulation\n",
    "\n",
    "---"
   ]
  },
  {
   "cell_type": "code",
   "execution_count": null,
   "metadata": {},
   "outputs": [],
   "source": []
  },
  {
   "cell_type": "code",
   "execution_count": null,
   "metadata": {},
   "outputs": [],
   "source": []
  },
  {
   "cell_type": "code",
   "execution_count": null,
   "metadata": {},
   "outputs": [],
   "source": []
  },
  {
   "cell_type": "markdown",
   "metadata": {},
   "source": [
    "# Monte Carlo Simulation\n",
    "-----"
   ]
  },
  {
   "cell_type": "code",
   "execution_count": null,
   "metadata": {},
   "outputs": [],
   "source": []
  }
 ],
 "metadata": {
  "kernelspec": {
   "display_name": "Python 3",
   "language": "python",
   "name": "python3"
  },
  "language_info": {
   "codemirror_mode": {
    "name": "ipython",
    "version": 3
   },
   "file_extension": ".py",
   "mimetype": "text/x-python",
   "name": "python",
   "nbconvert_exporter": "python",
   "pygments_lexer": "ipython3",
   "version": "3.7.5"
  }
 },
 "nbformat": 4,
 "nbformat_minor": 4
}
